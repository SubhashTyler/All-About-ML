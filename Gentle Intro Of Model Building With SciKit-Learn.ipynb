{
 "cells": [
  {
   "cell_type": "code",
   "execution_count": 21,
   "metadata": {},
   "outputs": [
    {
     "data": {
      "text/html": [
       "<div>\n",
       "<style scoped>\n",
       "    .dataframe tbody tr th:only-of-type {\n",
       "        vertical-align: middle;\n",
       "    }\n",
       "\n",
       "    .dataframe tbody tr th {\n",
       "        vertical-align: top;\n",
       "    }\n",
       "\n",
       "    .dataframe thead th {\n",
       "        text-align: right;\n",
       "    }\n",
       "</style>\n",
       "<table border=\"1\" class=\"dataframe\">\n",
       "  <thead>\n",
       "    <tr style=\"text-align: right;\">\n",
       "      <th></th>\n",
       "      <th>MaritalStatus</th>\n",
       "      <th>Gender</th>\n",
       "      <th>YearlyIncome</th>\n",
       "      <th>TotalChildren</th>\n",
       "      <th>NumberChildrenAtHome</th>\n",
       "      <th>EnglishEducation</th>\n",
       "      <th>HouseOwnerFlag</th>\n",
       "      <th>NumberCarsOwned</th>\n",
       "      <th>CommuteDistance</th>\n",
       "      <th>Region</th>\n",
       "      <th>Age</th>\n",
       "      <th>BikeBuyer</th>\n",
       "    </tr>\n",
       "  </thead>\n",
       "  <tbody>\n",
       "    <tr>\n",
       "      <th>0</th>\n",
       "      <td>5</td>\n",
       "      <td>1</td>\n",
       "      <td>90000</td>\n",
       "      <td>2</td>\n",
       "      <td>0</td>\n",
       "      <td>5</td>\n",
       "      <td>1</td>\n",
       "      <td>0</td>\n",
       "      <td>2</td>\n",
       "      <td>2</td>\n",
       "      <td>50</td>\n",
       "      <td>1</td>\n",
       "    </tr>\n",
       "    <tr>\n",
       "      <th>1</th>\n",
       "      <td>5</td>\n",
       "      <td>1</td>\n",
       "      <td>60000</td>\n",
       "      <td>3</td>\n",
       "      <td>3</td>\n",
       "      <td>5</td>\n",
       "      <td>0</td>\n",
       "      <td>1</td>\n",
       "      <td>1</td>\n",
       "      <td>2</td>\n",
       "      <td>51</td>\n",
       "      <td>1</td>\n",
       "    </tr>\n",
       "    <tr>\n",
       "      <th>2</th>\n",
       "      <td>5</td>\n",
       "      <td>1</td>\n",
       "      <td>60000</td>\n",
       "      <td>3</td>\n",
       "      <td>3</td>\n",
       "      <td>5</td>\n",
       "      <td>1</td>\n",
       "      <td>1</td>\n",
       "      <td>5</td>\n",
       "      <td>2</td>\n",
       "      <td>51</td>\n",
       "      <td>1</td>\n",
       "    </tr>\n",
       "    <tr>\n",
       "      <th>3</th>\n",
       "      <td>5</td>\n",
       "      <td>2</td>\n",
       "      <td>70000</td>\n",
       "      <td>0</td>\n",
       "      <td>0</td>\n",
       "      <td>5</td>\n",
       "      <td>0</td>\n",
       "      <td>1</td>\n",
       "      <td>10</td>\n",
       "      <td>2</td>\n",
       "      <td>49</td>\n",
       "      <td>1</td>\n",
       "    </tr>\n",
       "    <tr>\n",
       "      <th>4</th>\n",
       "      <td>5</td>\n",
       "      <td>2</td>\n",
       "      <td>80000</td>\n",
       "      <td>5</td>\n",
       "      <td>5</td>\n",
       "      <td>5</td>\n",
       "      <td>1</td>\n",
       "      <td>4</td>\n",
       "      <td>2</td>\n",
       "      <td>2</td>\n",
       "      <td>48</td>\n",
       "      <td>1</td>\n",
       "    </tr>\n",
       "  </tbody>\n",
       "</table>\n",
       "</div>"
      ],
      "text/plain": [
       "   MaritalStatus  Gender  YearlyIncome  TotalChildren  NumberChildrenAtHome  \\\n",
       "0              5       1         90000              2                     0   \n",
       "1              5       1         60000              3                     3   \n",
       "2              5       1         60000              3                     3   \n",
       "3              5       2         70000              0                     0   \n",
       "4              5       2         80000              5                     5   \n",
       "\n",
       "   EnglishEducation  HouseOwnerFlag  NumberCarsOwned  CommuteDistance  Region  \\\n",
       "0                 5               1                0                2       2   \n",
       "1                 5               0                1                1       2   \n",
       "2                 5               1                1                5       2   \n",
       "3                 5               0                1               10       2   \n",
       "4                 5               1                4                2       2   \n",
       "\n",
       "   Age  BikeBuyer  \n",
       "0   50          1  \n",
       "1   51          1  \n",
       "2   51          1  \n",
       "3   49          1  \n",
       "4   48          1  "
      ]
     },
     "execution_count": 21,
     "metadata": {},
     "output_type": "execute_result"
    }
   ],
   "source": [
    "# Introduction to Model Building\n",
    "\n",
    "from pandas import read_csv\n",
    "from numpy import set_printoptions \n",
    "\n",
    "dataframe = read_csv('BBC.csv')\n",
    "\n",
    "# Show first five rows of dataframe\n",
    "dataframe.head()"
   ]
  },
  {
   "cell_type": "code",
   "execution_count": 12,
   "metadata": {},
   "outputs": [
    {
     "name": "stdout",
     "output_type": "stream",
     "text": [
      "C:\\Users\\Pavan\n"
     ]
    }
   ],
   "source": [
    "# For seeing current working directory\n",
    "\n",
    "import os\n",
    "\n",
    "print(os.getcwd())"
   ]
  },
  {
   "cell_type": "code",
   "execution_count": 13,
   "metadata": {},
   "outputs": [
    {
     "data": {
      "text/html": [
       "<div>\n",
       "<style scoped>\n",
       "    .dataframe tbody tr th:only-of-type {\n",
       "        vertical-align: middle;\n",
       "    }\n",
       "\n",
       "    .dataframe tbody tr th {\n",
       "        vertical-align: top;\n",
       "    }\n",
       "\n",
       "    .dataframe thead th {\n",
       "        text-align: right;\n",
       "    }\n",
       "</style>\n",
       "<table border=\"1\" class=\"dataframe\">\n",
       "  <thead>\n",
       "    <tr style=\"text-align: right;\">\n",
       "      <th></th>\n",
       "      <th>MaritalStatus</th>\n",
       "      <th>Gender</th>\n",
       "      <th>YearlyIncome</th>\n",
       "      <th>TotalChildren</th>\n",
       "      <th>NumberChildrenAtHome</th>\n",
       "      <th>EnglishEducation</th>\n",
       "      <th>HouseOwnerFlag</th>\n",
       "      <th>NumberCarsOwned</th>\n",
       "      <th>CommuteDistance</th>\n",
       "      <th>Region</th>\n",
       "      <th>Age</th>\n",
       "      <th>BikeBuyer</th>\n",
       "    </tr>\n",
       "  </thead>\n",
       "  <tbody>\n",
       "    <tr>\n",
       "      <th>18479</th>\n",
       "      <td>4</td>\n",
       "      <td>1</td>\n",
       "      <td>30000</td>\n",
       "      <td>1</td>\n",
       "      <td>0</td>\n",
       "      <td>4</td>\n",
       "      <td>1</td>\n",
       "      <td>0</td>\n",
       "      <td>1</td>\n",
       "      <td>3</td>\n",
       "      <td>58</td>\n",
       "      <td>1</td>\n",
       "    </tr>\n",
       "    <tr>\n",
       "      <th>18480</th>\n",
       "      <td>4</td>\n",
       "      <td>2</td>\n",
       "      <td>30000</td>\n",
       "      <td>3</td>\n",
       "      <td>0</td>\n",
       "      <td>4</td>\n",
       "      <td>1</td>\n",
       "      <td>0</td>\n",
       "      <td>1</td>\n",
       "      <td>3</td>\n",
       "      <td>56</td>\n",
       "      <td>1</td>\n",
       "    </tr>\n",
       "    <tr>\n",
       "      <th>18481</th>\n",
       "      <td>4</td>\n",
       "      <td>1</td>\n",
       "      <td>30000</td>\n",
       "      <td>3</td>\n",
       "      <td>0</td>\n",
       "      <td>4</td>\n",
       "      <td>0</td>\n",
       "      <td>0</td>\n",
       "      <td>1</td>\n",
       "      <td>3</td>\n",
       "      <td>57</td>\n",
       "      <td>1</td>\n",
       "    </tr>\n",
       "    <tr>\n",
       "      <th>18482</th>\n",
       "      <td>5</td>\n",
       "      <td>1</td>\n",
       "      <td>30000</td>\n",
       "      <td>3</td>\n",
       "      <td>0</td>\n",
       "      <td>5</td>\n",
       "      <td>1</td>\n",
       "      <td>0</td>\n",
       "      <td>1</td>\n",
       "      <td>3</td>\n",
       "      <td>58</td>\n",
       "      <td>1</td>\n",
       "    </tr>\n",
       "    <tr>\n",
       "      <th>18483</th>\n",
       "      <td>5</td>\n",
       "      <td>1</td>\n",
       "      <td>30000</td>\n",
       "      <td>0</td>\n",
       "      <td>0</td>\n",
       "      <td>5</td>\n",
       "      <td>1</td>\n",
       "      <td>0</td>\n",
       "      <td>1</td>\n",
       "      <td>3</td>\n",
       "      <td>57</td>\n",
       "      <td>1</td>\n",
       "    </tr>\n",
       "  </tbody>\n",
       "</table>\n",
       "</div>"
      ],
      "text/plain": [
       "       MaritalStatus  Gender  YearlyIncome  TotalChildren  \\\n",
       "18479              4       1         30000              1   \n",
       "18480              4       2         30000              3   \n",
       "18481              4       1         30000              3   \n",
       "18482              5       1         30000              3   \n",
       "18483              5       1         30000              0   \n",
       "\n",
       "       NumberChildrenAtHome  EnglishEducation  HouseOwnerFlag  \\\n",
       "18479                     0                 4               1   \n",
       "18480                     0                 4               1   \n",
       "18481                     0                 4               0   \n",
       "18482                     0                 5               1   \n",
       "18483                     0                 5               1   \n",
       "\n",
       "       NumberCarsOwned  CommuteDistance  Region  Age  BikeBuyer  \n",
       "18479                0                1       3   58          1  \n",
       "18480                0                1       3   56          1  \n",
       "18481                0                1       3   57          1  \n",
       "18482                0                1       3   58          1  \n",
       "18483                0                1       3   57          1  "
      ]
     },
     "execution_count": 13,
     "metadata": {},
     "output_type": "execute_result"
    }
   ],
   "source": [
    "# shows last five rows of dataframe\n",
    "dataframe.tail(5)"
   ]
  },
  {
   "cell_type": "code",
   "execution_count": 14,
   "metadata": {},
   "outputs": [
    {
     "data": {
      "text/plain": [
       "(18484, 12)"
      ]
     },
     "execution_count": 14,
     "metadata": {},
     "output_type": "execute_result"
    }
   ],
   "source": [
    "# shows shape(rows, columns) of a dataframe\n",
    "dataframe.shape"
   ]
  },
  {
   "cell_type": "code",
   "execution_count": 15,
   "metadata": {},
   "outputs": [
    {
     "data": {
      "text/html": [
       "<div>\n",
       "<style scoped>\n",
       "    .dataframe tbody tr th:only-of-type {\n",
       "        vertical-align: middle;\n",
       "    }\n",
       "\n",
       "    .dataframe tbody tr th {\n",
       "        vertical-align: top;\n",
       "    }\n",
       "\n",
       "    .dataframe thead th {\n",
       "        text-align: right;\n",
       "    }\n",
       "</style>\n",
       "<table border=\"1\" class=\"dataframe\">\n",
       "  <thead>\n",
       "    <tr style=\"text-align: right;\">\n",
       "      <th></th>\n",
       "      <th>MaritalStatus</th>\n",
       "      <th>Gender</th>\n",
       "      <th>YearlyIncome</th>\n",
       "      <th>TotalChildren</th>\n",
       "      <th>NumberChildrenAtHome</th>\n",
       "      <th>EnglishEducation</th>\n",
       "      <th>HouseOwnerFlag</th>\n",
       "      <th>NumberCarsOwned</th>\n",
       "      <th>CommuteDistance</th>\n",
       "      <th>Region</th>\n",
       "      <th>Age</th>\n",
       "      <th>BikeBuyer</th>\n",
       "    </tr>\n",
       "  </thead>\n",
       "  <tbody>\n",
       "    <tr>\n",
       "      <th>count</th>\n",
       "      <td>18484.000000</td>\n",
       "      <td>18484.000000</td>\n",
       "      <td>18484.000000</td>\n",
       "      <td>18484.000000</td>\n",
       "      <td>18484.000000</td>\n",
       "      <td>18484.000000</td>\n",
       "      <td>18484.000000</td>\n",
       "      <td>18484.000000</td>\n",
       "      <td>18484.000000</td>\n",
       "      <td>18484.000000</td>\n",
       "      <td>18484.000000</td>\n",
       "      <td>18484.000000</td>\n",
       "    </tr>\n",
       "    <tr>\n",
       "      <th>mean</th>\n",
       "      <td>3.310106</td>\n",
       "      <td>1.494103</td>\n",
       "      <td>57305.777970</td>\n",
       "      <td>1.844352</td>\n",
       "      <td>1.004058</td>\n",
       "      <td>3.310106</td>\n",
       "      <td>0.676369</td>\n",
       "      <td>1.502705</td>\n",
       "      <td>6.003246</td>\n",
       "      <td>1.789710</td>\n",
       "      <td>54.603928</td>\n",
       "      <td>0.494049</td>\n",
       "    </tr>\n",
       "    <tr>\n",
       "      <th>std</th>\n",
       "      <td>1.426147</td>\n",
       "      <td>0.499979</td>\n",
       "      <td>32285.841703</td>\n",
       "      <td>1.612408</td>\n",
       "      <td>1.522660</td>\n",
       "      <td>1.426147</td>\n",
       "      <td>0.467874</td>\n",
       "      <td>1.138394</td>\n",
       "      <td>6.382562</td>\n",
       "      <td>0.872664</td>\n",
       "      <td>11.255252</td>\n",
       "      <td>0.499978</td>\n",
       "    </tr>\n",
       "    <tr>\n",
       "      <th>min</th>\n",
       "      <td>1.000000</td>\n",
       "      <td>1.000000</td>\n",
       "      <td>10000.000000</td>\n",
       "      <td>0.000000</td>\n",
       "      <td>0.000000</td>\n",
       "      <td>1.000000</td>\n",
       "      <td>0.000000</td>\n",
       "      <td>0.000000</td>\n",
       "      <td>1.000000</td>\n",
       "      <td>1.000000</td>\n",
       "      <td>36.000000</td>\n",
       "      <td>0.000000</td>\n",
       "    </tr>\n",
       "    <tr>\n",
       "      <th>25%</th>\n",
       "      <td>2.000000</td>\n",
       "      <td>1.000000</td>\n",
       "      <td>30000.000000</td>\n",
       "      <td>0.000000</td>\n",
       "      <td>0.000000</td>\n",
       "      <td>2.000000</td>\n",
       "      <td>0.000000</td>\n",
       "      <td>1.000000</td>\n",
       "      <td>1.000000</td>\n",
       "      <td>1.000000</td>\n",
       "      <td>46.000000</td>\n",
       "      <td>0.000000</td>\n",
       "    </tr>\n",
       "    <tr>\n",
       "      <th>50%</th>\n",
       "      <td>3.000000</td>\n",
       "      <td>1.000000</td>\n",
       "      <td>60000.000000</td>\n",
       "      <td>2.000000</td>\n",
       "      <td>0.000000</td>\n",
       "      <td>3.000000</td>\n",
       "      <td>1.000000</td>\n",
       "      <td>2.000000</td>\n",
       "      <td>2.000000</td>\n",
       "      <td>1.000000</td>\n",
       "      <td>53.000000</td>\n",
       "      <td>0.000000</td>\n",
       "    </tr>\n",
       "    <tr>\n",
       "      <th>75%</th>\n",
       "      <td>5.000000</td>\n",
       "      <td>2.000000</td>\n",
       "      <td>70000.000000</td>\n",
       "      <td>3.000000</td>\n",
       "      <td>2.000000</td>\n",
       "      <td>5.000000</td>\n",
       "      <td>1.000000</td>\n",
       "      <td>2.000000</td>\n",
       "      <td>10.000000</td>\n",
       "      <td>3.000000</td>\n",
       "      <td>62.000000</td>\n",
       "      <td>1.000000</td>\n",
       "    </tr>\n",
       "    <tr>\n",
       "      <th>max</th>\n",
       "      <td>5.000000</td>\n",
       "      <td>2.000000</td>\n",
       "      <td>170000.000000</td>\n",
       "      <td>5.000000</td>\n",
       "      <td>5.000000</td>\n",
       "      <td>5.000000</td>\n",
       "      <td>1.000000</td>\n",
       "      <td>4.000000</td>\n",
       "      <td>20.000000</td>\n",
       "      <td>3.000000</td>\n",
       "      <td>106.000000</td>\n",
       "      <td>1.000000</td>\n",
       "    </tr>\n",
       "  </tbody>\n",
       "</table>\n",
       "</div>"
      ],
      "text/plain": [
       "       MaritalStatus        Gender   YearlyIncome  TotalChildren  \\\n",
       "count   18484.000000  18484.000000   18484.000000   18484.000000   \n",
       "mean        3.310106      1.494103   57305.777970       1.844352   \n",
       "std         1.426147      0.499979   32285.841703       1.612408   \n",
       "min         1.000000      1.000000   10000.000000       0.000000   \n",
       "25%         2.000000      1.000000   30000.000000       0.000000   \n",
       "50%         3.000000      1.000000   60000.000000       2.000000   \n",
       "75%         5.000000      2.000000   70000.000000       3.000000   \n",
       "max         5.000000      2.000000  170000.000000       5.000000   \n",
       "\n",
       "       NumberChildrenAtHome  EnglishEducation  HouseOwnerFlag  \\\n",
       "count          18484.000000      18484.000000    18484.000000   \n",
       "mean               1.004058          3.310106        0.676369   \n",
       "std                1.522660          1.426147        0.467874   \n",
       "min                0.000000          1.000000        0.000000   \n",
       "25%                0.000000          2.000000        0.000000   \n",
       "50%                0.000000          3.000000        1.000000   \n",
       "75%                2.000000          5.000000        1.000000   \n",
       "max                5.000000          5.000000        1.000000   \n",
       "\n",
       "       NumberCarsOwned  CommuteDistance        Region           Age  \\\n",
       "count     18484.000000     18484.000000  18484.000000  18484.000000   \n",
       "mean          1.502705         6.003246      1.789710     54.603928   \n",
       "std           1.138394         6.382562      0.872664     11.255252   \n",
       "min           0.000000         1.000000      1.000000     36.000000   \n",
       "25%           1.000000         1.000000      1.000000     46.000000   \n",
       "50%           2.000000         2.000000      1.000000     53.000000   \n",
       "75%           2.000000        10.000000      3.000000     62.000000   \n",
       "max           4.000000        20.000000      3.000000    106.000000   \n",
       "\n",
       "          BikeBuyer  \n",
       "count  18484.000000  \n",
       "mean       0.494049  \n",
       "std        0.499978  \n",
       "min        0.000000  \n",
       "25%        0.000000  \n",
       "50%        0.000000  \n",
       "75%        1.000000  \n",
       "max        1.000000  "
      ]
     },
     "execution_count": 15,
     "metadata": {},
     "output_type": "execute_result"
    }
   ],
   "source": [
    "# shows mean, median, mode of the data\n",
    "\n",
    "# mean = average\n",
    "# median = values in the middle of the rage\n",
    "# mode = The number which appears most often in a set of numbers\n",
    "\n",
    "dataframe.describe()"
   ]
  },
  {
   "cell_type": "code",
   "execution_count": 16,
   "metadata": {},
   "outputs": [
    {
     "data": {
      "text/plain": [
       "array([[    5,     1, 90000, ...,     2,    50,     1],\n",
       "       [    5,     1, 60000, ...,     2,    51,     1],\n",
       "       [    5,     1, 60000, ...,     2,    51,     1],\n",
       "       ...,\n",
       "       [    4,     1, 30000, ...,     3,    57,     1],\n",
       "       [    5,     1, 30000, ...,     3,    58,     1],\n",
       "       [    5,     1, 30000, ...,     3,    57,     1]], dtype=int64)"
      ]
     },
     "execution_count": 16,
     "metadata": {},
     "output_type": "execute_result"
    }
   ],
   "source": [
    "dataframe.values"
   ]
  },
  {
   "cell_type": "code",
   "execution_count": 18,
   "metadata": {
    "scrolled": true
   },
   "outputs": [
    {
     "data": {
      "text/plain": [
       "array([[    5,     1, 90000, ...,     2,     2,    50],\n",
       "       [    5,     1, 60000, ...,     1,     2,    51],\n",
       "       [    5,     1, 60000, ...,     5,     2,    51],\n",
       "       ...,\n",
       "       [    4,     1, 30000, ...,     1,     3,    57],\n",
       "       [    5,     1, 30000, ...,     1,     3,    58],\n",
       "       [    5,     1, 30000, ...,     1,     3,    57]], dtype=int64)"
      ]
     },
     "execution_count": 18,
     "metadata": {},
     "output_type": "execute_result"
    }
   ],
   "source": [
    "# include all items in the dataframe from 0 to 11\n",
    "dataframe.values[:,0:11]"
   ]
  },
  {
   "cell_type": "code",
   "execution_count": 40,
   "metadata": {},
   "outputs": [
    {
     "data": {
      "text/plain": [
       "array([1, 1, 1, ..., 1, 1, 1], dtype=int64)"
      ]
     },
     "execution_count": 40,
     "metadata": {},
     "output_type": "execute_result"
    }
   ],
   "source": [
    "# column in the dataframe mapped to the 11th row\n",
    "dataframe.values[:, 11]"
   ]
  },
  {
   "cell_type": "code",
   "execution_count": 33,
   "metadata": {},
   "outputs": [
    {
     "data": {
      "text/plain": [
       "BikeBuyer\n",
       "0    9352\n",
       "1    9132\n",
       "dtype: int64"
      ]
     },
     "execution_count": 33,
     "metadata": {},
     "output_type": "execute_result"
    }
   ],
   "source": [
    "# shows only bikebuyer column\n",
    "bike_buyers = dataframe.groupby('BikeBuyer')\n",
    "\n",
    "# size shows number of distributions of o's(non_bike_buyers) and 1'(bike_buyers)\n",
    "bike_buyers.size()"
   ]
  },
  {
   "cell_type": "markdown",
   "metadata": {},
   "source": [
    "Number of bikers and non-bike buyers are evenly distributed\n",
    "As we can see the distributions 9352(non_bike_buyers) and 9152(bike_buyers) above.\n",
    "\n",
    "Even number of distributions really matters for finding the accuracy of our predictive model.\n"
   ]
  },
  {
   "cell_type": "markdown",
   "metadata": {},
   "source": [
    "\n",
    "\n",
    "# Creation of model to check the accuracy\n"
   ]
  },
  {
   "cell_type": "markdown",
   "metadata": {},
   "source": [
    "[Building model using SVC]"
   ]
  },
  {
   "cell_type": "code",
   "execution_count": 52,
   "metadata": {},
   "outputs": [
    {
     "name": "stdout",
     "output_type": "stream",
     "text": [
      "Accuracy is 81.87883159033538\n"
     ]
    }
   ],
   "source": [
    "from pandas import read_csv\n",
    "from sklearn.model_selection import train_test_split     # For testing\n",
    "from sklearn.svm import SVC                              # Classifier\n",
    "\n",
    "dataframe = read_csv('BBC.csv')\n",
    "\n",
    "x = dataframe.values[:, 0:11]                           # Whole Training data, Includes all items in the dataframe from 0 to 11\n",
    "y = dataframe.values[:, 11]                             # BikeBuyers column in the dataframe mapped to the 11th row\n",
    "\n",
    "# In the cell below we are specifying the test size. \n",
    "# If our test size is 25% of the data then our training size is 75% of the data.\n",
    "# The sole pupose of seed is to reproduce the results.\n",
    "\n",
    "test_size = 0.30\n",
    "seed = 45\n",
    "\n",
    "x_train, x_test, y_train, y_test = train_test_split(x, y, test_size = test_size, random_state = seed)\n",
    "\n",
    "model = SVC(gamma = 'auto')                       # Setting gamma explicitly to auto for the purpose of avoiding future warning\n",
    "model.fit(x_test, y_test)\n",
    "\n",
    "result = model.score(x_test, y_test) * 100\n",
    "print('Accuracy is {}'.format(result))\n"
   ]
  },
  {
   "cell_type": "markdown",
   "metadata": {},
   "source": [
    "\n",
    "[Building model using KNeighborsClassifier]"
   ]
  },
  {
   "cell_type": "code",
   "execution_count": 53,
   "metadata": {},
   "outputs": [
    {
     "name": "stdout",
     "output_type": "stream",
     "text": [
      "Accuracy is 82.58204111071042\n"
     ]
    }
   ],
   "source": [
    "from pandas import read_csv\n",
    "from sklearn.model_selection import train_test_split\n",
    "from sklearn.neighbors import KNeighborsClassifier\n",
    "\n",
    "dataframe = read_csv('BBC.csv')\n",
    "\n",
    "x = dataframe.values[:, 0:11]                           # Whole Training data, Includes all items in the dataframe from 0 to 11\n",
    "y = dataframe.values[:, 11]                             # BikeBuyers column in the dataframe mapped to the 11th row\n",
    "\n",
    "# In the cell below we are specifying the test size. \n",
    "# If our test size is 25% of the data then our training size is 75% of the data.\n",
    "# The sole pupose of seed is to reproduce the results.\n",
    "\n",
    "test_size = 0.30\n",
    "seed = 45\n",
    "\n",
    "x_train, x_test, y_train, y_test = train_test_split(x, y, test_size = test_size, random_state = seed)\n",
    "\n",
    "model = KNeighborsClassifier()                    \n",
    "model.fit(x_test, y_test)\n",
    "\n",
    "result = model.score(x_test, y_test) * 100\n",
    "print('Accuracy is {}'.format(result))"
   ]
  },
  {
   "cell_type": "markdown",
   "metadata": {},
   "source": [
    "\n",
    "[Building Model Using RandomForestClassifier]"
   ]
  },
  {
   "cell_type": "code",
   "execution_count": 55,
   "metadata": {},
   "outputs": [
    {
     "name": "stdout",
     "output_type": "stream",
     "text": [
      "Accuracy is 90.75009015506672\n"
     ]
    }
   ],
   "source": [
    "from pandas import read_csv\n",
    "from sklearn.model_selection import train_test_split\n",
    "from sklearn.ensemble import RandomForestClassifier\n",
    "\n",
    "dataframe = read_csv('BBC.csv')\n",
    "\n",
    "x = dataframe.values[:, 0:11]                           # Whole Training data, Includes all items in the dataframe from 0 to 11\n",
    "y = dataframe.values[:, 11]                             # BikeBuyers column in the dataframe mapped to the 11th row\n",
    "\n",
    "# In the cell below we are specifying the test size. \n",
    "# If our test size is 25% of the data then our training size is 75% of the data.\n",
    "# The sole pupose of seed is to reproduce the results.\n",
    "\n",
    "test_size = 0.30\n",
    "seed = 45\n",
    "\n",
    "x_train, x_test, y_train, y_test = train_test_split(x, y, test_size = test_size, random_state = seed)\n",
    "\n",
    "model = RandomForestClassifier(n_estimators = 100)      # Setting n_estimator to 100 for the purpose of avoiding future warning\n",
    "model.fit(x_test, y_test)\n",
    "\n",
    "result = model.score(x_test, y_test) * 100\n",
    "print('Accuracy is {}'.format(result))"
   ]
  }
 ],
 "metadata": {
  "kernelspec": {
   "display_name": "Python 3",
   "language": "python",
   "name": "python3"
  },
  "language_info": {
   "codemirror_mode": {
    "name": "ipython",
    "version": 3
   },
   "file_extension": ".py",
   "mimetype": "text/x-python",
   "name": "python",
   "nbconvert_exporter": "python",
   "pygments_lexer": "ipython3",
   "version": "3.7.3"
  }
 },
 "nbformat": 4,
 "nbformat_minor": 2
}
